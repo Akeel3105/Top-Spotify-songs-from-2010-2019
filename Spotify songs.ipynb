{
 "cells": [
  {
   "cell_type": "code",
   "execution_count": 1,
   "metadata": {},
   "outputs": [],
   "source": [
    "# About the dataset"
   ]
  },
  {
   "cell_type": "code",
   "execution_count": 2,
   "metadata": {},
   "outputs": [
    {
     "data": {
      "text/plain": [
       "'\\nThere are the most popular songs in the world by year and 13 variables to be explored\\nThe top songs BY YEAR in the world by spotify. This dataset has several variables about the songs and is based on Billboard\\nThere are the most popular songs in the world by year and 13 variables to be explored. Data were stracted from: \\nhttp://organizeyourmusic.playlistmachinery.com/\\n'"
      ]
     },
     "execution_count": 2,
     "metadata": {},
     "output_type": "execute_result"
    }
   ],
   "source": [
    "'''\n",
    "There are the most popular songs in the world by year and 13 variables to be explored\n",
    "The top songs BY YEAR in the world by spotify. This dataset has several variables about the songs and is based on Billboard\n",
    "There are the most popular songs in the world by year and 13 variables to be explored. Data were stracted from: \n",
    "http://organizeyourmusic.playlistmachinery.com/\n",
    "'''"
   ]
  },
  {
   "cell_type": "code",
   "execution_count": 3,
   "metadata": {},
   "outputs": [],
   "source": [
    "# Loading all the required libraries"
   ]
  },
  {
   "cell_type": "code",
   "execution_count": 4,
   "metadata": {},
   "outputs": [],
   "source": [
    "import numpy as np\n",
    "import pandas as pd\n",
    "import matplotlib.pyplot as plt\n",
    "%matplotlib inline\n",
    "import seaborn as sns\n",
    "from sklearn.preprocessing import LabelEncoder\n",
    "from sklearn import datasets\n",
    "from sklearn.metrics import r2_score\n",
    "from sklearn.preprocessing import StandardScaler\n",
    "from sklearn import linear_model\n",
    "from sklearn.metrics import mean_squared_error\n",
    "from sklearn.model_selection import train_test_split\n",
    "from sklearn import svm\n",
    "from sklearn.tree import DecisionTreeClassifier\n",
    "from sklearn.ensemble import RandomForestClassifier\n",
    "from sklearn.linear_model import LogisticRegression\n",
    "from sklearn.metrics import roc_curve, auc ,accuracy_score,cohen_kappa_score,confusion_matrix,classification_report,recall_score,precision_score\n",
    "from pprint import pprint\n",
    "from sklearn.ensemble import RandomForestRegressor\n",
    "from sklearn.tree import DecisionTreeRegressor\n",
    "from sklearn.preprocessing import LabelEncoder\n",
    "from sklearn.decomposition import PCA\n",
    "import sklearn.feature_selection\n",
    "from sklearn.neighbors import KNeighborsClassifier\n",
    "from sklearn.metrics import confusion_matrix\n",
    "from sklearn.cluster import KMeans\n",
    "from sklearn import preprocessing\n",
    "from sklearn.metrics import silhouette_score\n",
    "from sklearn.linear_model import LinearRegression\n",
    "from sklearn.metrics import mean_absolute_error\n",
    "from pandas.plotting import scatter_matrix\n",
    "from sklearn.discriminant_analysis import LinearDiscriminantAnalysis\n",
    "from sklearn.naive_bayes import GaussianNB\n",
    "from sklearn.model_selection import StratifiedKFold\n",
    "from sklearn.metrics import classification_report\n",
    "from sklearn.svm import SVC\n",
    "from sklearn.model_selection import cross_val_score\n",
    "from matplotlib import pyplot\n",
    "from sklearn.svm import SVR\n",
    "from sklearn.ensemble import BaggingClassifier\n",
    "from sklearn.linear_model import LinearRegression\n",
    "from sklearn.neighbors import KNeighborsRegressor\n",
    "from sklearn.ensemble import AdaBoostClassifier\n",
    "from sklearn.ensemble import AdaBoostRegressor\n",
    "from sklearn.ensemble import ExtraTreesClassifier"
   ]
  },
  {
   "cell_type": "code",
   "execution_count": 5,
   "metadata": {},
   "outputs": [],
   "source": [
    "# Importing dataset"
   ]
  },
  {
   "cell_type": "code",
   "execution_count": 6,
   "metadata": {},
   "outputs": [],
   "source": [
    "song=pd.read_csv(\"C://Users//acer//Desktop//1sem//python//top spotify songs//top songs.csv\",encoding=\"unicode_escape\")"
   ]
  },
  {
   "cell_type": "code",
   "execution_count": 7,
   "metadata": {},
   "outputs": [],
   "source": [
    "# looking at first few rows"
   ]
  },
  {
   "cell_type": "code",
   "execution_count": 8,
   "metadata": {},
   "outputs": [
    {
     "data": {
      "text/html": [
       "<div>\n",
       "<style scoped>\n",
       "    .dataframe tbody tr th:only-of-type {\n",
       "        vertical-align: middle;\n",
       "    }\n",
       "\n",
       "    .dataframe tbody tr th {\n",
       "        vertical-align: top;\n",
       "    }\n",
       "\n",
       "    .dataframe thead th {\n",
       "        text-align: right;\n",
       "    }\n",
       "</style>\n",
       "<table border=\"1\" class=\"dataframe\">\n",
       "  <thead>\n",
       "    <tr style=\"text-align: right;\">\n",
       "      <th></th>\n",
       "      <th>id</th>\n",
       "      <th>title</th>\n",
       "      <th>artist</th>\n",
       "      <th>top genre</th>\n",
       "      <th>year</th>\n",
       "      <th>bpm</th>\n",
       "      <th>nrgy</th>\n",
       "      <th>dnce</th>\n",
       "      <th>dB</th>\n",
       "      <th>live</th>\n",
       "      <th>val</th>\n",
       "      <th>dur</th>\n",
       "      <th>acous</th>\n",
       "      <th>spch</th>\n",
       "      <th>pop</th>\n",
       "    </tr>\n",
       "  </thead>\n",
       "  <tbody>\n",
       "    <tr>\n",
       "      <td>0</td>\n",
       "      <td>1</td>\n",
       "      <td>Hey, Soul Sister</td>\n",
       "      <td>Train</td>\n",
       "      <td>neo mellow</td>\n",
       "      <td>2010</td>\n",
       "      <td>97</td>\n",
       "      <td>89</td>\n",
       "      <td>67</td>\n",
       "      <td>-4</td>\n",
       "      <td>8</td>\n",
       "      <td>80</td>\n",
       "      <td>217</td>\n",
       "      <td>19</td>\n",
       "      <td>4</td>\n",
       "      <td>83</td>\n",
       "    </tr>\n",
       "    <tr>\n",
       "      <td>1</td>\n",
       "      <td>2</td>\n",
       "      <td>Love The Way You Lie</td>\n",
       "      <td>Eminem</td>\n",
       "      <td>detroit hip hop</td>\n",
       "      <td>2010</td>\n",
       "      <td>87</td>\n",
       "      <td>93</td>\n",
       "      <td>75</td>\n",
       "      <td>-5</td>\n",
       "      <td>52</td>\n",
       "      <td>64</td>\n",
       "      <td>263</td>\n",
       "      <td>24</td>\n",
       "      <td>23</td>\n",
       "      <td>82</td>\n",
       "    </tr>\n",
       "    <tr>\n",
       "      <td>2</td>\n",
       "      <td>3</td>\n",
       "      <td>TiK ToK</td>\n",
       "      <td>Kesha</td>\n",
       "      <td>dance pop</td>\n",
       "      <td>2010</td>\n",
       "      <td>120</td>\n",
       "      <td>84</td>\n",
       "      <td>76</td>\n",
       "      <td>-3</td>\n",
       "      <td>29</td>\n",
       "      <td>71</td>\n",
       "      <td>200</td>\n",
       "      <td>10</td>\n",
       "      <td>14</td>\n",
       "      <td>80</td>\n",
       "    </tr>\n",
       "  </tbody>\n",
       "</table>\n",
       "</div>"
      ],
      "text/plain": [
       "   id                 title  artist        top genre  year  bpm  nrgy  dnce  \\\n",
       "0   1      Hey, Soul Sister   Train       neo mellow  2010   97    89    67   \n",
       "1   2  Love The Way You Lie  Eminem  detroit hip hop  2010   87    93    75   \n",
       "2   3               TiK ToK   Kesha        dance pop  2010  120    84    76   \n",
       "\n",
       "   dB  live  val  dur  acous  spch  pop  \n",
       "0  -4     8   80  217     19     4   83  \n",
       "1  -5    52   64  263     24    23   82  \n",
       "2  -3    29   71  200     10    14   80  "
      ]
     },
     "execution_count": 8,
     "metadata": {},
     "output_type": "execute_result"
    }
   ],
   "source": [
    "song.head(3)"
   ]
  },
  {
   "cell_type": "code",
   "execution_count": 9,
   "metadata": {},
   "outputs": [],
   "source": [
    "# Looking at last few rows"
   ]
  },
  {
   "cell_type": "code",
   "execution_count": 10,
   "metadata": {},
   "outputs": [
    {
     "data": {
      "text/html": [
       "<div>\n",
       "<style scoped>\n",
       "    .dataframe tbody tr th:only-of-type {\n",
       "        vertical-align: middle;\n",
       "    }\n",
       "\n",
       "    .dataframe tbody tr th {\n",
       "        vertical-align: top;\n",
       "    }\n",
       "\n",
       "    .dataframe thead th {\n",
       "        text-align: right;\n",
       "    }\n",
       "</style>\n",
       "<table border=\"1\" class=\"dataframe\">\n",
       "  <thead>\n",
       "    <tr style=\"text-align: right;\">\n",
       "      <th></th>\n",
       "      <th>id</th>\n",
       "      <th>title</th>\n",
       "      <th>artist</th>\n",
       "      <th>top genre</th>\n",
       "      <th>year</th>\n",
       "      <th>bpm</th>\n",
       "      <th>nrgy</th>\n",
       "      <th>dnce</th>\n",
       "      <th>dB</th>\n",
       "      <th>live</th>\n",
       "      <th>val</th>\n",
       "      <th>dur</th>\n",
       "      <th>acous</th>\n",
       "      <th>spch</th>\n",
       "      <th>pop</th>\n",
       "    </tr>\n",
       "  </thead>\n",
       "  <tbody>\n",
       "    <tr>\n",
       "      <td>600</td>\n",
       "      <td>601</td>\n",
       "      <td>No Brainer (feat. Justin Bieber, Chance the Ra...</td>\n",
       "      <td>DJ Khaled</td>\n",
       "      <td>dance pop</td>\n",
       "      <td>2019</td>\n",
       "      <td>136</td>\n",
       "      <td>76</td>\n",
       "      <td>53</td>\n",
       "      <td>-5</td>\n",
       "      <td>9</td>\n",
       "      <td>65</td>\n",
       "      <td>260</td>\n",
       "      <td>7</td>\n",
       "      <td>34</td>\n",
       "      <td>70</td>\n",
       "    </tr>\n",
       "    <tr>\n",
       "      <td>601</td>\n",
       "      <td>602</td>\n",
       "      <td>Nothing Breaks Like a Heart (feat. Miley Cyrus)</td>\n",
       "      <td>Mark Ronson</td>\n",
       "      <td>dance pop</td>\n",
       "      <td>2019</td>\n",
       "      <td>114</td>\n",
       "      <td>79</td>\n",
       "      <td>60</td>\n",
       "      <td>-6</td>\n",
       "      <td>42</td>\n",
       "      <td>24</td>\n",
       "      <td>217</td>\n",
       "      <td>1</td>\n",
       "      <td>7</td>\n",
       "      <td>69</td>\n",
       "    </tr>\n",
       "    <tr>\n",
       "      <td>602</td>\n",
       "      <td>603</td>\n",
       "      <td>Kills You Slowly</td>\n",
       "      <td>The Chainsmokers</td>\n",
       "      <td>electropop</td>\n",
       "      <td>2019</td>\n",
       "      <td>150</td>\n",
       "      <td>44</td>\n",
       "      <td>70</td>\n",
       "      <td>-9</td>\n",
       "      <td>13</td>\n",
       "      <td>23</td>\n",
       "      <td>213</td>\n",
       "      <td>6</td>\n",
       "      <td>6</td>\n",
       "      <td>67</td>\n",
       "    </tr>\n",
       "  </tbody>\n",
       "</table>\n",
       "</div>"
      ],
      "text/plain": [
       "      id                                              title            artist  \\\n",
       "600  601  No Brainer (feat. Justin Bieber, Chance the Ra...         DJ Khaled   \n",
       "601  602    Nothing Breaks Like a Heart (feat. Miley Cyrus)       Mark Ronson   \n",
       "602  603                                   Kills You Slowly  The Chainsmokers   \n",
       "\n",
       "      top genre  year  bpm  nrgy  dnce  dB  live  val  dur  acous  spch  pop  \n",
       "600   dance pop  2019  136    76    53  -5     9   65  260      7    34   70  \n",
       "601   dance pop  2019  114    79    60  -6    42   24  217      1     7   69  \n",
       "602  electropop  2019  150    44    70  -9    13   23  213      6     6   67  "
      ]
     },
     "execution_count": 10,
     "metadata": {},
     "output_type": "execute_result"
    }
   ],
   "source": [
    "song.tail(3)"
   ]
  },
  {
   "cell_type": "code",
   "execution_count": 11,
   "metadata": {},
   "outputs": [],
   "source": [
    "# size of dataset"
   ]
  },
  {
   "cell_type": "code",
   "execution_count": 12,
   "metadata": {},
   "outputs": [
    {
     "data": {
      "text/plain": [
       "(603, 15)"
      ]
     },
     "execution_count": 12,
     "metadata": {},
     "output_type": "execute_result"
    }
   ],
   "source": [
    "song.shape"
   ]
  },
  {
   "cell_type": "code",
   "execution_count": 13,
   "metadata": {},
   "outputs": [],
   "source": [
    "# Listing all columns"
   ]
  },
  {
   "cell_type": "code",
   "execution_count": 14,
   "metadata": {},
   "outputs": [
    {
     "data": {
      "text/plain": [
       "Index(['id', 'title', 'artist', 'top genre', 'year', 'bpm', 'nrgy', 'dnce',\n",
       "       'dB', 'live', 'val', 'dur', 'acous', 'spch', 'pop'],\n",
       "      dtype='object')"
      ]
     },
     "execution_count": 14,
     "metadata": {},
     "output_type": "execute_result"
    }
   ],
   "source": [
    "song.columns"
   ]
  },
  {
   "cell_type": "code",
   "execution_count": 15,
   "metadata": {},
   "outputs": [],
   "source": [
    "# columns data type"
   ]
  },
  {
   "cell_type": "code",
   "execution_count": 16,
   "metadata": {},
   "outputs": [
    {
     "data": {
      "text/plain": [
       "id            int64\n",
       "title        object\n",
       "artist       object\n",
       "top genre    object\n",
       "year          int64\n",
       "bpm           int64\n",
       "nrgy          int64\n",
       "dnce          int64\n",
       "dB            int64\n",
       "live          int64\n",
       "val           int64\n",
       "dur           int64\n",
       "acous         int64\n",
       "spch          int64\n",
       "pop           int64\n",
       "dtype: object"
      ]
     },
     "execution_count": 16,
     "metadata": {},
     "output_type": "execute_result"
    }
   ],
   "source": [
    "song.dtypes"
   ]
  },
  {
   "cell_type": "code",
   "execution_count": 17,
   "metadata": {},
   "outputs": [
    {
     "data": {
      "text/html": [
       "<div>\n",
       "<style scoped>\n",
       "    .dataframe tbody tr th:only-of-type {\n",
       "        vertical-align: middle;\n",
       "    }\n",
       "\n",
       "    .dataframe tbody tr th {\n",
       "        vertical-align: top;\n",
       "    }\n",
       "\n",
       "    .dataframe thead th {\n",
       "        text-align: right;\n",
       "    }\n",
       "</style>\n",
       "<table border=\"1\" class=\"dataframe\">\n",
       "  <thead>\n",
       "    <tr style=\"text-align: right;\">\n",
       "      <th></th>\n",
       "      <th>id</th>\n",
       "      <th>year</th>\n",
       "      <th>bpm</th>\n",
       "      <th>nrgy</th>\n",
       "      <th>dnce</th>\n",
       "      <th>dB</th>\n",
       "      <th>live</th>\n",
       "      <th>val</th>\n",
       "      <th>dur</th>\n",
       "      <th>acous</th>\n",
       "      <th>spch</th>\n",
       "      <th>pop</th>\n",
       "    </tr>\n",
       "  </thead>\n",
       "  <tbody>\n",
       "    <tr>\n",
       "      <td>count</td>\n",
       "      <td>603.000000</td>\n",
       "      <td>603.000000</td>\n",
       "      <td>603.000000</td>\n",
       "      <td>603.000000</td>\n",
       "      <td>603.000000</td>\n",
       "      <td>603.000000</td>\n",
       "      <td>603.000000</td>\n",
       "      <td>603.000000</td>\n",
       "      <td>603.000000</td>\n",
       "      <td>603.000000</td>\n",
       "      <td>603.000000</td>\n",
       "      <td>603.000000</td>\n",
       "    </tr>\n",
       "    <tr>\n",
       "      <td>mean</td>\n",
       "      <td>302.000000</td>\n",
       "      <td>2014.592040</td>\n",
       "      <td>118.545605</td>\n",
       "      <td>70.504146</td>\n",
       "      <td>64.379768</td>\n",
       "      <td>-5.578773</td>\n",
       "      <td>17.774461</td>\n",
       "      <td>52.225539</td>\n",
       "      <td>224.674959</td>\n",
       "      <td>14.326700</td>\n",
       "      <td>8.358209</td>\n",
       "      <td>66.520730</td>\n",
       "    </tr>\n",
       "    <tr>\n",
       "      <td>std</td>\n",
       "      <td>174.215384</td>\n",
       "      <td>2.607057</td>\n",
       "      <td>24.795358</td>\n",
       "      <td>16.310664</td>\n",
       "      <td>13.378718</td>\n",
       "      <td>2.798020</td>\n",
       "      <td>13.102543</td>\n",
       "      <td>22.513020</td>\n",
       "      <td>34.130059</td>\n",
       "      <td>20.766165</td>\n",
       "      <td>7.483162</td>\n",
       "      <td>14.517746</td>\n",
       "    </tr>\n",
       "    <tr>\n",
       "      <td>min</td>\n",
       "      <td>1.000000</td>\n",
       "      <td>2010.000000</td>\n",
       "      <td>0.000000</td>\n",
       "      <td>0.000000</td>\n",
       "      <td>0.000000</td>\n",
       "      <td>-60.000000</td>\n",
       "      <td>0.000000</td>\n",
       "      <td>0.000000</td>\n",
       "      <td>134.000000</td>\n",
       "      <td>0.000000</td>\n",
       "      <td>0.000000</td>\n",
       "      <td>0.000000</td>\n",
       "    </tr>\n",
       "    <tr>\n",
       "      <td>25%</td>\n",
       "      <td>151.500000</td>\n",
       "      <td>2013.000000</td>\n",
       "      <td>100.000000</td>\n",
       "      <td>61.000000</td>\n",
       "      <td>57.000000</td>\n",
       "      <td>-6.000000</td>\n",
       "      <td>9.000000</td>\n",
       "      <td>35.000000</td>\n",
       "      <td>202.000000</td>\n",
       "      <td>2.000000</td>\n",
       "      <td>4.000000</td>\n",
       "      <td>60.000000</td>\n",
       "    </tr>\n",
       "    <tr>\n",
       "      <td>50%</td>\n",
       "      <td>302.000000</td>\n",
       "      <td>2015.000000</td>\n",
       "      <td>120.000000</td>\n",
       "      <td>74.000000</td>\n",
       "      <td>66.000000</td>\n",
       "      <td>-5.000000</td>\n",
       "      <td>12.000000</td>\n",
       "      <td>52.000000</td>\n",
       "      <td>221.000000</td>\n",
       "      <td>6.000000</td>\n",
       "      <td>5.000000</td>\n",
       "      <td>69.000000</td>\n",
       "    </tr>\n",
       "    <tr>\n",
       "      <td>75%</td>\n",
       "      <td>452.500000</td>\n",
       "      <td>2017.000000</td>\n",
       "      <td>129.000000</td>\n",
       "      <td>82.000000</td>\n",
       "      <td>73.000000</td>\n",
       "      <td>-4.000000</td>\n",
       "      <td>24.000000</td>\n",
       "      <td>69.000000</td>\n",
       "      <td>239.500000</td>\n",
       "      <td>17.000000</td>\n",
       "      <td>9.000000</td>\n",
       "      <td>76.000000</td>\n",
       "    </tr>\n",
       "    <tr>\n",
       "      <td>max</td>\n",
       "      <td>603.000000</td>\n",
       "      <td>2019.000000</td>\n",
       "      <td>206.000000</td>\n",
       "      <td>98.000000</td>\n",
       "      <td>97.000000</td>\n",
       "      <td>-2.000000</td>\n",
       "      <td>74.000000</td>\n",
       "      <td>98.000000</td>\n",
       "      <td>424.000000</td>\n",
       "      <td>99.000000</td>\n",
       "      <td>48.000000</td>\n",
       "      <td>99.000000</td>\n",
       "    </tr>\n",
       "  </tbody>\n",
       "</table>\n",
       "</div>"
      ],
      "text/plain": [
       "               id         year         bpm        nrgy        dnce  \\\n",
       "count  603.000000   603.000000  603.000000  603.000000  603.000000   \n",
       "mean   302.000000  2014.592040  118.545605   70.504146   64.379768   \n",
       "std    174.215384     2.607057   24.795358   16.310664   13.378718   \n",
       "min      1.000000  2010.000000    0.000000    0.000000    0.000000   \n",
       "25%    151.500000  2013.000000  100.000000   61.000000   57.000000   \n",
       "50%    302.000000  2015.000000  120.000000   74.000000   66.000000   \n",
       "75%    452.500000  2017.000000  129.000000   82.000000   73.000000   \n",
       "max    603.000000  2019.000000  206.000000   98.000000   97.000000   \n",
       "\n",
       "               dB        live         val         dur       acous        spch  \\\n",
       "count  603.000000  603.000000  603.000000  603.000000  603.000000  603.000000   \n",
       "mean    -5.578773   17.774461   52.225539  224.674959   14.326700    8.358209   \n",
       "std      2.798020   13.102543   22.513020   34.130059   20.766165    7.483162   \n",
       "min    -60.000000    0.000000    0.000000  134.000000    0.000000    0.000000   \n",
       "25%     -6.000000    9.000000   35.000000  202.000000    2.000000    4.000000   \n",
       "50%     -5.000000   12.000000   52.000000  221.000000    6.000000    5.000000   \n",
       "75%     -4.000000   24.000000   69.000000  239.500000   17.000000    9.000000   \n",
       "max     -2.000000   74.000000   98.000000  424.000000   99.000000   48.000000   \n",
       "\n",
       "              pop  \n",
       "count  603.000000  \n",
       "mean    66.520730  \n",
       "std     14.517746  \n",
       "min      0.000000  \n",
       "25%     60.000000  \n",
       "50%     69.000000  \n",
       "75%     76.000000  \n",
       "max     99.000000  "
      ]
     },
     "execution_count": 17,
     "metadata": {},
     "output_type": "execute_result"
    }
   ],
   "source": [
    "song.describe()"
   ]
  },
  {
   "cell_type": "code",
   "execution_count": 18,
   "metadata": {},
   "outputs": [],
   "source": [
    "# looking at null values"
   ]
  },
  {
   "cell_type": "code",
   "execution_count": 19,
   "metadata": {},
   "outputs": [
    {
     "data": {
      "text/plain": [
       "id           0\n",
       "title        0\n",
       "artist       0\n",
       "top genre    0\n",
       "year         0\n",
       "bpm          0\n",
       "nrgy         0\n",
       "dnce         0\n",
       "dB           0\n",
       "live         0\n",
       "val          0\n",
       "dur          0\n",
       "acous        0\n",
       "spch         0\n",
       "pop          0\n",
       "dtype: int64"
      ]
     },
     "execution_count": 19,
     "metadata": {},
     "output_type": "execute_result"
    }
   ],
   "source": [
    "song.isna().sum()"
   ]
  },
  {
   "cell_type": "code",
   "execution_count": 20,
   "metadata": {},
   "outputs": [],
   "source": [
    "# Feature engineering"
   ]
  },
  {
   "cell_type": "code",
   "execution_count": null,
   "metadata": {},
   "outputs": [],
   "source": [
    "# id"
   ]
  },
  {
   "cell_type": "code",
   "execution_count": null,
   "metadata": {},
   "outputs": [],
   "source": [
    "# Lets drop this col as this is not going to affect the dependent variable"
   ]
  },
  {
   "cell_type": "code",
   "execution_count": 21,
   "metadata": {},
   "outputs": [],
   "source": [
    "song.drop(\"id\",axis=1,inplace=True)"
   ]
  },
  {
   "cell_type": "code",
   "execution_count": null,
   "metadata": {},
   "outputs": [],
   "source": [
    "# title"
   ]
  },
  {
   "cell_type": "code",
   "execution_count": 22,
   "metadata": {},
   "outputs": [],
   "source": [
    "song.drop(\"title\",axis=1,inplace=True)"
   ]
  },
  {
   "cell_type": "code",
   "execution_count": null,
   "metadata": {},
   "outputs": [],
   "source": [
    "# artist"
   ]
  },
  {
   "cell_type": "code",
   "execution_count": 24,
   "metadata": {},
   "outputs": [
    {
     "data": {
      "text/plain": [
       "184"
      ]
     },
     "execution_count": 24,
     "metadata": {},
     "output_type": "execute_result"
    }
   ],
   "source": [
    "len(song.artist.unique())"
   ]
  },
  {
   "cell_type": "code",
   "execution_count": null,
   "metadata": {},
   "outputs": [],
   "source": [
    "# lets encode this using Label encoder"
   ]
  },
  {
   "cell_type": "code",
   "execution_count": 25,
   "metadata": {},
   "outputs": [],
   "source": [
    "le=LabelEncoder()\n",
    "song[\"artistt\"]=le.fit_transform(song[\"artist\"])"
   ]
  },
  {
   "cell_type": "code",
   "execution_count": 26,
   "metadata": {},
   "outputs": [],
   "source": [
    "song.drop(\"artist\",axis=1,inplace=True)"
   ]
  },
  {
   "cell_type": "code",
   "execution_count": null,
   "metadata": {},
   "outputs": [],
   "source": [
    "# top genre"
   ]
  },
  {
   "cell_type": "code",
   "execution_count": 28,
   "metadata": {},
   "outputs": [
    {
     "data": {
      "text/plain": [
       "50"
      ]
     },
     "execution_count": 28,
     "metadata": {},
     "output_type": "execute_result"
    }
   ],
   "source": [
    "len(song[\"top genre\"].unique())"
   ]
  },
  {
   "cell_type": "code",
   "execution_count": 29,
   "metadata": {},
   "outputs": [],
   "source": [
    "le=LabelEncoder()\n",
    "song[\"genre\"]=le.fit_transform(song[\"top genre\"])"
   ]
  },
  {
   "cell_type": "code",
   "execution_count": 30,
   "metadata": {},
   "outputs": [],
   "source": [
    "song.drop(\"top genre\",axis=1,inplace=True)"
   ]
  },
  {
   "cell_type": "code",
   "execution_count": null,
   "metadata": {},
   "outputs": [],
   "source": [
    "# Data visualization"
   ]
  },
  {
   "cell_type": "code",
   "execution_count": null,
   "metadata": {},
   "outputs": [],
   "source": [
    "# using histogram"
   ]
  },
  {
   "cell_type": "code",
   "execution_count": 32,
   "metadata": {},
   "outputs": [
    {
     "data": {
      "image/png": "[encoded data removed]",
      "text/plain": [
       "<Figure size 720x720 with 16 Axes>"
      ]
     },
     "metadata": {
      "needs_background": "light"
     },
     "output_type": "display_data"
    }
   ],
   "source": [
    "song.hist(figsize=(10,10),color=\"yellow\",edgecolor=\"black\")\n",
    "plt.show()"
   ]
  },
  {
   "cell_type": "code",
   "execution_count": null,
   "metadata": {},
   "outputs": [],
   "source": [
    "# boxplot"
   ]
  },
  {
   "cell_type": "code",
   "execution_count": 34,
   "metadata": {},
   "outputs": [
    {
     "data": {
      "text/plain": [
       "<matplotlib.axes._subplots.AxesSubplot at 0x13af5165ba8>"
      ]
     },
     "execution_count": 34,
     "metadata": {},
     "output_type": "execute_result"
    },
    {
     "data": {
      "image/png": "[encoded data removed]",
      "text/plain": [
       "<Figure size 432x288 with 1 Axes>"
      ]
     },
     "metadata": {
      "needs_background": "light"
     },
     "output_type": "display_data"
    }
   ],
   "source": [
    "sns.boxplot(y=song[\"pop\"])"
   ]
  },
  {
   "cell_type": "code",
   "execution_count": 36,
   "metadata": {},
   "outputs": [
    {
     "data": {
      "image/png": "[encoded data removed]",
      "text/plain": [
       "<Figure size 1080x1080 with 13 Axes>"
      ]
     },
     "metadata": {
      "needs_background": "light"
     },
     "output_type": "display_data"
    }
   ],
   "source": [
    "fig=plt.figure(figsize=(15,15))\n",
    "for index,i in enumerate(song.columns):\n",
    "    plt.subplot(5,5,index+1)\n",
    "    plt.subplots_adjust(hspace=0.5)\n",
    "    plt.xticks(rotation=45)\n",
    "    sns.boxplot(y=song[i])"
   ]
  },
  {
   "cell_type": "code",
   "execution_count": null,
   "metadata": {},
   "outputs": [],
   "source": [
    "# scatterplot"
   ]
  },
  {
   "cell_type": "code",
   "execution_count": 39,
   "metadata": {},
   "outputs": [
    {
     "data": {
      "text/plain": [
       "<matplotlib.collections.PathCollection at 0x13af4fda6a0>"
      ]
     },
     "execution_count": 39,
     "metadata": {},
     "output_type": "execute_result"
    },
    {
     "data": {
      "image/png": "[encoded data removed]",
      "text/plain": [
       "<Figure size 1152x576 with 1 Axes>"
      ]
     },
     "metadata": {
      "needs_background": "light"
     },
     "output_type": "display_data"
    }
   ],
   "source": [
    "fig, ax = plt.subplots(figsize=(16,8))\n",
    "ax.scatter(song[\"genre\"],song[\"artistt\"])"
   ]
  },
  {
   "cell_type": "code",
   "execution_count": null,
   "metadata": {},
   "outputs": [],
   "source": [
    "# heatmap"
   ]
  },
  {
   "cell_type": "code",
   "execution_count": 42,
   "metadata": {},
   "outputs": [
    {
     "data": {
      "text/plain": [
       "<matplotlib.axes._subplots.AxesSubplot at 0x13af47ab780>"
      ]
     },
     "execution_count": 42,
     "metadata": {},
     "output_type": "execute_result"
    },
    {
     "data": {
      "image/png": "[encoded data removed]",
      "text/plain": [
       "<Figure size 720x720 with 2 Axes>"
      ]
     },
     "metadata": {
      "needs_background": "light"
     },
     "output_type": "display_data"
    }
   ],
   "source": [
    "fig=plt.figure(figsize=(10,10))\n",
    "song_corr=song.corr()\n",
    "sns.heatmap(song_corr,annot=True,cmap=\"Dark2\")"
   ]
  },
  {
   "cell_type": "code",
   "execution_count": null,
   "metadata": {},
   "outputs": [],
   "source": [
    "# Dividing dataset into dependent and independent variables"
   ]
  },
  {
   "cell_type": "code",
   "execution_count": 43,
   "metadata": {},
   "outputs": [],
   "source": [
    "y=song[\"pop\"]\n",
    "x=song.drop(\"pop\",axis=1)"
   ]
  },
  {
   "cell_type": "code",
   "execution_count": null,
   "metadata": {},
   "outputs": [],
   "source": [
    "# further dividing data into train and test"
   ]
  },
  {
   "cell_type": "code",
   "execution_count": 44,
   "metadata": {},
   "outputs": [],
   "source": [
    "x_train,x_test,y_train,y_test=train_test_split(x,y,test_size=0.33,random_state=42)"
   ]
  },
  {
   "cell_type": "code",
   "execution_count": null,
   "metadata": {},
   "outputs": [],
   "source": [
    "# applying ml algo"
   ]
  },
  {
   "cell_type": "code",
   "execution_count": 46,
   "metadata": {},
   "outputs": [],
   "source": [
    "lr=LinearRegression()\n",
    "lr.fit(x_train,y_train)\n",
    "prediction=lr.predict(x_test)"
   ]
  },
  {
   "cell_type": "code",
   "execution_count": 47,
   "metadata": {},
   "outputs": [
    {
     "name": "stdout",
     "output_type": "stream",
     "text": [
      "     Actual  Predicted\n",
      "110      76  64.415819\n",
      "527      78  73.736564\n",
      "567      57  72.737797\n",
      "77       66  60.729196\n",
      "181      61  63.673480\n",
      "..      ...        ...\n",
      "404      68  65.759410\n",
      "278      79  69.347549\n",
      "490      62  67.926817\n",
      "350      50  70.093967\n",
      "511      84  72.021665\n",
      "\n",
      "[199 rows x 2 columns]\n"
     ]
    }
   ],
   "source": [
    "output=pd.DataFrame({\"Actual\":y_test,\"Predicted\":prediction})\n",
    "print(output)"
   ]
  },
  {
   "cell_type": "code",
   "execution_count": null,
   "metadata": {},
   "outputs": [],
   "source": [
    "# Evaluating the model performance"
   ]
  },
  {
   "cell_type": "code",
   "execution_count": 49,
   "metadata": {},
   "outputs": [
    {
     "name": "stdout",
     "output_type": "stream",
     "text": [
      "mse is 206.01590895667945:\n",
      "weights [ 1.38973846  0.03762112 -0.14449203  0.01535459  0.69994526 -0.0204481\n",
      "  0.02782584 -0.01689039 -0.04428527 -0.06808665  0.00676624  0.14262651]\n",
      "intercept -2724.9415277249063\n",
      "mean abs error: 10.299995091190851\n",
      "mean sq error: 206.01590895667945\n",
      "root mean sq error: 14.353254298474596\n"
     ]
    }
   ],
   "source": [
    "print(\"mse is {}:\".format(mean_squared_error(y_test,prediction)))\n",
    "print(\"weights\",lr.coef_)\n",
    "print(\"intercept\",lr.intercept_)\n",
    "print(\"mean abs error:\",mean_absolute_error(y_test,prediction))\n",
    "print(\"mean sq error:\",mean_squared_error(y_test,prediction))\n",
    "print(\"root mean sq error:\",np.sqrt(mean_squared_error(y_test,prediction)))"
   ]
  },
  {
   "cell_type": "code",
   "execution_count": null,
   "metadata": {},
   "outputs": [],
   "source": [
    "# decision tree"
   ]
  },
  {
   "cell_type": "code",
   "execution_count": 50,
   "metadata": {},
   "outputs": [],
   "source": [
    "dt=DecisionTreeRegressor()\n",
    "dt.fit(x_train,y_train)\n",
    "prediction=dt.predict(x_test)"
   ]
  },
  {
   "cell_type": "code",
   "execution_count": 51,
   "metadata": {},
   "outputs": [
    {
     "name": "stdout",
     "output_type": "stream",
     "text": [
      "     Actual  Predicted\n",
      "110      76       69.0\n",
      "527      78       76.0\n",
      "567      57       62.0\n",
      "77       66       73.0\n",
      "181      61       69.0\n",
      "..      ...        ...\n",
      "404      68       68.0\n",
      "278      79       81.0\n",
      "490      62       72.0\n",
      "350      50       44.0\n",
      "511      84       68.0\n",
      "\n",
      "[199 rows x 2 columns]\n"
     ]
    }
   ],
   "source": [
    "output=pd.DataFrame({\"Actual\":y_test,\"Predicted\":prediction})\n",
    "print(output)"
   ]
  },
  {
   "cell_type": "code",
   "execution_count": 52,
   "metadata": {},
   "outputs": [
    {
     "name": "stdout",
     "output_type": "stream",
     "text": [
      "mse is 332.7286432160804:\n",
      "weights [ 1.38973846  0.03762112 -0.14449203  0.01535459  0.69994526 -0.0204481\n",
      "  0.02782584 -0.01689039 -0.04428527 -0.06808665  0.00676624  0.14262651]\n",
      "intercept -2724.9415277249063\n",
      "mean abs error: 13.452261306532664\n",
      "mean sq error: 332.7286432160804\n",
      "root mean sq error: 18.240850945503624\n"
     ]
    }
   ],
   "source": [
    "print(\"mse is {}:\".format(mean_squared_error(y_test,prediction)))\n",
    "print(\"weights\",lr.coef_)\n",
    "print(\"intercept\",lr.intercept_)\n",
    "print(\"mean abs error:\",mean_absolute_error(y_test,prediction))\n",
    "print(\"mean sq error:\",mean_squared_error(y_test,prediction))\n",
    "print(\"root mean sq error:\",np.sqrt(mean_squared_error(y_test,prediction)))"
   ]
  },
  {
   "cell_type": "code",
   "execution_count": null,
   "metadata": {},
   "outputs": [],
   "source": [
    "# using random forest"
   ]
  },
  {
   "cell_type": "code",
   "execution_count": 53,
   "metadata": {},
   "outputs": [
    {
     "name": "stderr",
     "output_type": "stream",
     "text": [
      "c:\\users\\acer\\appdata\\local\\programs\\python\\python36\\lib\\site-packages\\sklearn\\ensemble\\forest.py:245: FutureWarning: The default value of n_estimators will change from 10 in version 0.20 to 100 in 0.22.\n",
      "  \"10 in version 0.20 to 100 in 0.22.\", FutureWarning)\n"
     ]
    }
   ],
   "source": [
    "rf=RandomForestRegressor()\n",
    "rf.fit(x_train,y_train)\n",
    "prediction=rf.predict(x_test)"
   ]
  },
  {
   "cell_type": "code",
   "execution_count": 54,
   "metadata": {},
   "outputs": [
    {
     "name": "stdout",
     "output_type": "stream",
     "text": [
      "     Actual  Predicted\n",
      "110      76       62.0\n",
      "527      78       65.7\n",
      "567      57       69.3\n",
      "77       66       62.9\n",
      "181      61       56.9\n",
      "..      ...        ...\n",
      "404      68       69.0\n",
      "278      79       66.8\n",
      "490      62       69.9\n",
      "350      50       62.9\n",
      "511      84       72.2\n",
      "\n",
      "[199 rows x 2 columns]\n"
     ]
    }
   ],
   "source": [
    "output=pd.DataFrame({\"Actual\":y_test,\"Predicted\":prediction})\n",
    "print(output)"
   ]
  },
  {
   "cell_type": "code",
   "execution_count": 55,
   "metadata": {},
   "outputs": [
    {
     "name": "stdout",
     "output_type": "stream",
     "text": [
      "mse is 231.56999999999996:\n",
      "weights [ 1.38973846  0.03762112 -0.14449203  0.01535459  0.69994526 -0.0204481\n",
      "  0.02782584 -0.01689039 -0.04428527 -0.06808665  0.00676624  0.14262651]\n",
      "intercept -2724.9415277249063\n",
      "mean abs error: 11.126130653266333\n",
      "mean sq error: 231.56999999999996\n",
      "root mean sq error: 15.217424223566876\n"
     ]
    }
   ],
   "source": [
    "print(\"mse is {}:\".format(mean_squared_error(y_test,prediction)))\n",
    "print(\"weights\",lr.coef_)\n",
    "print(\"intercept\",lr.intercept_)\n",
    "print(\"mean abs error:\",mean_absolute_error(y_test,prediction))\n",
    "print(\"mean sq error:\",mean_squared_error(y_test,prediction))\n",
    "print(\"root mean sq error:\",np.sqrt(mean_squared_error(y_test,prediction)))"
   ]
  },
  {
   "cell_type": "code",
   "execution_count": null,
   "metadata": {},
   "outputs": [],
   "source": []
  },
  {
   "cell_type": "code",
   "execution_count": null,
   "metadata": {},
   "outputs": [],
   "source": [
    "'''\n",
    "Hence we can conclude that our Linear regression model best fit the dataset with least error\n",
    "'''"
   ]
  },
  {
   "cell_type": "code",
   "execution_count": null,
   "metadata": {},
   "outputs": [],
   "source": []
  },
  {
   "cell_type": "code",
   "execution_count": null,
   "metadata": {},
   "outputs": [],
   "source": []
  }
 ],
 "metadata": {
  "kernelspec": {
   "display_name": "Python 3",
   "language": "python",
   "name": "python3"
  },
  "language_info": {
   "codemirror_mode": {
    "name": "ipython",
    "version": 3
   },
   "file_extension": ".py",
   "mimetype": "text/x-python",
   "name": "python",
   "nbconvert_exporter": "python",
   "pygments_lexer": "ipython3",
   "version": "3.6.5"
  }
 },
 "nbformat": 4,
 "nbformat_minor": 2
}
